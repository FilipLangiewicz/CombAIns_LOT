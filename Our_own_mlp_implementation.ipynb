{
 "cells": [
  {
   "cell_type": "code",
   "execution_count": 2,
   "metadata": {
    "ExecuteTime": {
     "end_time": "2025-03-02T17:56:30.092041Z",
     "start_time": "2025-03-02T17:56:29.173432Z"
    }
   },
   "outputs": [],
   "source": [
    "import numpy as np\n",
    "import pandas as pd\n",
    "import matplotlib.pyplot as plt\n",
    "from sklearn.metrics import confusion_matrix\n",
    "import seaborn as sns\n",
    "import time"
   ]
  },
  {
   "cell_type": "markdown",
   "metadata": {},
   "source": [
    "# **Available activation functions**"
   ]
  },
  {
   "cell_type": "code",
   "execution_count": 3,
   "metadata": {},
   "outputs": [],
   "source": [
    "def sigmoid(x):\n",
    "    return 1 / (1 + np.exp(-x))\n",
    "\n",
    "def sigmoid_derivative(x):\n",
    "    return x * (1 - x)\n",
    "\n",
    "def linear(x):\n",
    "    return x\n",
    "\n",
    "def linear_derivative(x):\n",
    "    return np.ones_like(x)\n",
    "\n",
    "def relu(x):\n",
    "    return np.maximum(0, x)\n",
    "\n",
    "def relu_derivative(x):\n",
    "    return np.where(x > 0, 1, 0)\n",
    "\n",
    "def leaky_relu(x, alpha=0.01):\n",
    "    return np.where(x > 0, x, alpha * x)\n",
    "\n",
    "def leaky_relu_derivative(x, alpha=0.01):\n",
    "    return np.where(x > 0, 1, alpha)\n",
    "\n",
    "def tanh(x):\n",
    "    return np.tanh(x)\n",
    "\n",
    "def tanh_derivative(x):\n",
    "    return 1 - x**2\n",
    "\n",
    "def softmax(x):\n",
    "    return np.exp(x) / np.sum(np.exp(x), axis=1, keepdims=True)"
   ]
  },
  {
   "cell_type": "markdown",
   "metadata": {},
   "source": [
    "# **Single layer definition**"
   ]
  },
  {
   "cell_type": "code",
   "execution_count": 4,
   "metadata": {},
   "outputs": [],
   "source": [
    "class Layer:\n",
    "    \n",
    "    def __init__(self, input_dim, output_dim, activation='sigmoid', weights_init='uniform'):\n",
    "        \"\"\"\n",
    "        Initializes a single layer in the neural network.\n",
    "\n",
    "        Parameters:\n",
    "        - input_dim (int): Number of input neurons (features).\n",
    "        - output_dim (int): Number of output neurons.\n",
    "        - activation (str, optional): Activation function to use ('sigmoid' by default). \n",
    "          Supported: 'sigmoid', 'linear', 'relu', 'tanh', 'softmax'.\n",
    "        - weights_init (str, optional): Weight initialization method ('uniform' by default).\n",
    "          Available methods:\n",
    "            - 'uniform' : Weights initialized from a uniform distribution.\n",
    "            - 'normal'  : Weights initialized from a normal distribution.\n",
    "            - 'xavier'  : Xavier/Glorot initialization (good for tanh).\n",
    "            - 'he'      : He initialization (good for ReLU).\n",
    "\n",
    "        Raises:\n",
    "        - ValueError: If an unknown weight initialization method or activation function is provided.\n",
    "        \"\"\"\n",
    "        \n",
    "        weight_initializers = {\n",
    "            'uniform': lambda: np.random.uniform(0, 1, size=(input_dim, output_dim)),\n",
    "            'normal': lambda: np.random.randn(input_dim, output_dim),  \n",
    "            'xavier': lambda: np.random.randn(input_dim, output_dim) * np.sqrt(2 / (input_dim + output_dim)),\n",
    "            'he': lambda: np.random.randn(input_dim, output_dim) * np.sqrt(2 / input_dim) \n",
    "        }\n",
    "\n",
    "        if weights_init not in weight_initializers:\n",
    "            raise ValueError(f\"Unknown initialization method: {weights_init}. Available: {list(weight_initializers.keys())}\")\n",
    "\n",
    "        self.weights = weight_initializers[weights_init]()\n",
    "        self.biases = np.zeros((1, output_dim))\n",
    "        \n",
    "        activation_functions = {\n",
    "            'sigmoid' : sigmoid,\n",
    "            'linear' : linear,\n",
    "            'relu' : relu,\n",
    "            'tanh' : tanh,\n",
    "            'softmax' : softmax,\n",
    "            'leaky_relu' : leaky_relu\n",
    "        }\n",
    "        \n",
    "        activation_derivatives = {  \n",
    "            'sigmoid': sigmoid_derivative,\n",
    "            'linear': linear_derivative,\n",
    "            'relu' : relu_derivative,\n",
    "            'tanh' : tanh_derivative,\n",
    "            'leaky_relu' : leaky_relu_derivative\n",
    "        }\n",
    "\n",
    "        self.activation = activation_functions.get(activation)\n",
    "        self.activation_derivative = activation_derivatives.get(activation)\n",
    "        \n",
    "        if self.activation is None:\n",
    "            raise ValueError(f\"Unknown activation function: {activation}. Available: {list(activation_functions.keys())}\")\n",
    "\n",
    "        \n",
    "    def forward(self, X):\n",
    "        \"\"\"\n",
    "        Performs forward propagation through the layer.\n",
    "\n",
    "        Parameters:\n",
    "        - X (numpy array): Input data (shape: number of samples × input features).\n",
    "\n",
    "        Returns:\n",
    "        - numpy array: Activated output of the layer.\n",
    "        \"\"\"\n",
    "        return self.activation(np.dot(X, self.weights) + self.biases)\n"
   ]
  },
  {
   "cell_type": "markdown",
   "metadata": {},
   "source": [
    "# **MLP**"
   ]
  },
  {
   "cell_type": "code",
   "execution_count": 5,
   "metadata": {
    "ExecuteTime": {
     "end_time": "2025-03-02T17:56:30.217097Z",
     "start_time": "2025-03-02T17:56:30.140342Z"
    }
   },
   "outputs": [],
   "source": [
    "class MLP:\n",
    "    \n",
    "    def __init__(self, layers, weights_init='uniform', classification=False):\n",
    "        \"\"\"\n",
    "        Initializes the multi-layer perceptron (MLP).\n",
    "        \n",
    "        Parameters:\n",
    "        - layers (list of dicts): Each dictionary defines a Layer object with keys:\n",
    "            - 'input_dim' (int): Number of input neurons.\n",
    "            - 'output_dim' (int): Number of output neurons.\n",
    "            - 'activation' (str): Activation function name.\n",
    "        - weights_init (str, optional): Method for weight initialization ('uniform' by default).\n",
    "        \"\"\"\n",
    "        self.layers = [Layer(layer['input_dim'], layer['output_dim'], layer['activation'], weights_init) for layer in layers]\n",
    "        self.classification = classification\n",
    "        self.weights_history = []\n",
    "\n",
    "\n",
    "    def feedforward(self, X):\n",
    "        \"\"\"\n",
    "        Performs forward propagation through the network.\n",
    "        \n",
    "        Parameters:\n",
    "        - X (numpy array): Input data (shape: number of samples × input features).\n",
    "\n",
    "        Returns:\n",
    "        - activations (list of numpy arrays): Activations of each layer including input and output.\n",
    "        \"\"\"\n",
    "        activations = [X]\n",
    "        for i, layer in enumerate(self.layers):\n",
    "            activations.append(layer.forward(activations[i]))\n",
    "        return activations\n",
    "\n",
    "\n",
    "    def predict(self, X):\n",
    "        \"\"\"\n",
    "        Computes the network's output for given input data.\n",
    "        \n",
    "        Parameters:\n",
    "        - X (numpy array): Input data.\n",
    "\n",
    "        Returns:\n",
    "        - numpy array: The final network output (predicted values).\n",
    "        \"\"\"\n",
    "        if self.classification:\n",
    "            preds = np.array(self.feedforward(X)[-1])\n",
    "            return np.argmax(preds, axis=1).flatten()\n",
    "        return np.array(self.feedforward(X)[-1]).reshape(-1,)\n",
    "\n",
    "\n",
    "    def train(self, \n",
    "        X_train, \n",
    "        y_train, \n",
    "        epochs=500, \n",
    "        learning_rate=0.1, \n",
    "        batch_size=None,\n",
    "        optimizer=None, \n",
    "        beta=0.9,  \n",
    "        epsilon=1e-8 \n",
    "        ):\n",
    "        \"\"\"\n",
    "        Trains the neural network using mini-batch gradient descent and backpropagation.\n",
    "\n",
    "        Parameters:\n",
    "        - X_train (numpy array): Training input data.\n",
    "        - y_train (numpy array): Training target values.\n",
    "        - epochs (int, optional): Number of training iterations (default is 500).\n",
    "        - learning_rate (float, optional): Step size for weight updates (default is 0.1).\n",
    "        - batch_size (int, optional): Number of samples per batch. If None, full-batch is used.\n",
    "        - optimizer (str, optional): 'momentum' or 'rmsprop' to apply these optimizers. Default is None.\n",
    "        - beta (float, optional): Momentum and RMSProp smoothing constant. Default is 0.9.\n",
    "        - epsilon (float, optional): Small constant for numerical stability in RMSProp. Default is 1e-8.\n",
    "\n",
    "        Returns:\n",
    "        - None (prints training progress and plots weight evolution).\n",
    "        \"\"\"\n",
    "        X_train = np.array(X_train)\n",
    "        y_train = np.array(y_train)\n",
    "        loss = []\n",
    "        self.weights_history = []\n",
    "\n",
    "        if batch_size is None:\n",
    "            batch_size = len(X_train)\n",
    "            \n",
    "        if self.classification:\n",
    "            y_train_oh = self.one_hot_encode(y_train)\n",
    "\n",
    "        if optimizer == 'momentum':\n",
    "            velocity_w = [np.zeros_like(layer.weights) for layer in self.layers]\n",
    "            velocity_b = [np.zeros_like(layer.biases) for layer in self.layers]\n",
    "        elif optimizer == 'rmsprop':\n",
    "            caches_w = [np.zeros_like(layer.weights) for layer in self.layers]\n",
    "            caches_b = [np.zeros_like(layer.biases) for layer in self.layers]\n",
    "\n",
    "        for epoch in range(epochs):\n",
    "            indices = np.arange(len(X_train))\n",
    "            np.random.shuffle(indices)\n",
    "\n",
    "            for i in range(0, len(X_train), batch_size):\n",
    "                batch_indices = indices[i:i + batch_size]\n",
    "                X_batch = X_train[batch_indices]\n",
    "                y_batch = y_train[batch_indices].reshape(-1, 1) if not self.classification else y_train_oh[batch_indices]\n",
    "\n",
    "                weights_error = [np.zeros_like(layer.weights) for layer in self.layers]\n",
    "                biases_error = [np.zeros_like(layer.biases) for layer in self.layers]\n",
    "\n",
    "                activations = self.feedforward(X_batch)\n",
    "\n",
    "                weights_error, biases_error = self.backpropagate(activations, y_batch)\n",
    "\n",
    "                for j, layer in enumerate(self.layers):\n",
    "                    if optimizer == 'momentum':\n",
    "                        velocity_w[j] = beta * velocity_w[j] + learning_rate * weights_error[j]\n",
    "                        layer.weights -= velocity_w[j]\n",
    "                        velocity_b[j] = beta * velocity_b[j] + learning_rate * biases_error[j]\n",
    "                        layer.biases -= velocity_b[j]\n",
    "                    elif optimizer == 'rmsprop':\n",
    "                        caches_w[j] = beta * caches_w[j] + (1 - beta) * np.square(weights_error[j])\n",
    "                        layer.weights -= learning_rate * weights_error[j] / (np.sqrt(caches_w[j]) + epsilon)\n",
    "                        caches_b[j] = beta * caches_b[j] + (1 - beta) * np.square(biases_error[j])\n",
    "                        layer.biases -= learning_rate * biases_error[j] / (np.sqrt(caches_b[j]) + epsilon)\n",
    "                    else:\n",
    "                        layer.weights -= learning_rate * weights_error[j]\n",
    "                        layer.biases -= learning_rate * biases_error[j]\n",
    "\n",
    "            self.weights_history.append([layer.weights.copy() for layer in self.layers])\n",
    "\n",
    "            if not self.classification:\n",
    "                y_pred = self.predict(X_train)\n",
    "                tmp_loss = self.mse(y_pred, y_train)   \n",
    "                print(f\"\\nEpoch {epoch + 1}/{epochs}. Loss = {tmp_loss}.\")\n",
    "            else:\n",
    "                y_pred_oh = self.feedforward(X_train)[-1]\n",
    "                y_pred = np.argmax(y_pred_oh, axis=1).flatten() \n",
    "                tmp_loss = self.cross_entropy(y_train_oh, y_pred_oh)\n",
    "                tmp_f1 = self.f1_score(y_train, y_pred)\n",
    "                print(f\"\\nEpoch {epoch + 1}/{epochs}. Loss = {tmp_loss}. F1 Score = {tmp_f1}.\")          \n",
    "            if epoch >= 10:\n",
    "                loss.append(tmp_loss)\n",
    "            else:\n",
    "                loss.append(None)\n",
    "\n",
    "        plt.figure(figsize=(14, 3))\n",
    "        plt.plot(range(epochs), loss, 'o')\n",
    "        plt.title('Loss over epochs')\n",
    "        plt.xlabel('Epochs')\n",
    "        plt.ylabel('Loss')\n",
    "        plt.show()\n",
    "        #self.plot_weights_evolution()\n",
    "\n",
    "\n",
    "    def backpropagate(self, activations, y_batch):\n",
    "        \"\"\"\n",
    "        Performs backpropagation to compute gradients for weight and bias updates.\n",
    "\n",
    "        Parameters:\n",
    "        - activations (list of numpy arrays): Activations from feedforward pass.\n",
    "        - y_batch (numpy array): Expected output.\n",
    "\n",
    "        Returns:\n",
    "        - Tuple (weight_gradients, bias_gradients) where:\n",
    "            - weight_gradients (list of numpy arrays): Gradients for each layer’s weights.\n",
    "            - bias_gradients (list of numpy arrays): Gradients for each layer’s biases.\n",
    "        \"\"\"\n",
    "        \n",
    "        batch_size = y_batch.shape[0]\n",
    "\n",
    "        if self.classification:\n",
    "            y_pred = activations[-1]  \n",
    "        else:\n",
    "            y_pred = activations[-1].reshape(-1, 1)\n",
    "        \n",
    "        if self.classification:\n",
    "            deltas = [(y_pred - y_batch).reshape(-1, y_pred.shape[1])]\n",
    "        else:\n",
    "            error = (y_pred - y_batch).reshape(-1, 1)\n",
    "            deltas = [error * self.layers[-1].activation_derivative(y_pred)]\n",
    "\n",
    "        for i in range(len(self.layers) - 2, -1, -1):\n",
    "            layer = self.layers[i]\n",
    "            next_layer = self.layers[i + 1]\n",
    "            \n",
    "            error = deltas[-1] @ next_layer.weights.T  \n",
    "            deltas.append(error * layer.activation_derivative(activations[i + 1]))\n",
    "\n",
    "        deltas.reverse() \n",
    "\n",
    "        weight_gradients = [(activations[i].T @ deltas[i]) / batch_size for i in range(len(self.layers))]\n",
    "        bias_gradients = [np.mean(deltas[i], axis=0, keepdims=True) for i in range(len(self.layers))]\n",
    "\n",
    "        return weight_gradients, bias_gradients\n",
    "    \n",
    "   \n",
    "    def plot_weights_evolution(self):\n",
    "        \"\"\"\n",
    "        Plots the evolution of weights over epochs for each layer.\n",
    "\n",
    "        Returns:\n",
    "        - None (displays plots).\n",
    "        \"\"\"\n",
    "        epochs = len(self.weights_history)\n",
    "        for layer_idx in range(len(self.layers)):\n",
    "            weights_per_epoch = np.array([epoch[layer_idx] for epoch in self.weights_history])  \n",
    "            \n",
    "            num_weights = weights_per_epoch[0].size  \n",
    "            weights_per_epoch = weights_per_epoch.reshape(epochs, num_weights)\n",
    "\n",
    "            plt.figure(figsize=(8, 5))\n",
    "            for w in range(num_weights):\n",
    "                plt.plot(range(epochs), weights_per_epoch[:, w], alpha=0.7)\n",
    "\n",
    "            plt.title(f'Weight Evolution in Layer {layer_idx + 1}')\n",
    "            plt.xlabel('Epoch')\n",
    "            plt.ylabel('Weight Value')\n",
    "            plt.legend()\n",
    "            plt.show()       \n",
    "            \n",
    "    def one_hot_encode(self, y, num_classes=None):\n",
    "        \"\"\"\n",
    "        Converts class labels to one-hot encoding.\n",
    "\n",
    "        Parameters:\n",
    "        - y (numpy array): Class labels.\n",
    "\n",
    "        Returns:\n",
    "        - numpy array: One-hot encoded labels.\n",
    "        \"\"\"\n",
    "        if num_classes is None:\n",
    "            num_classes = len(np.unique(y))\n",
    "            \n",
    "        y = y.flatten()\n",
    "        y = y.astype(int)\n",
    "        y_oh = np.zeros((len(y), num_classes))\n",
    "        y_oh[np.arange(len(y)), y] = 1\n",
    "        return y_oh            \n",
    "\n",
    "   \n",
    "    def set_weights_and_biases(self, layer_idx, W, b):\n",
    "        \"\"\"\n",
    "        Sets custom weights and biases for a specific layer.\n",
    "\n",
    "        Parameters:\n",
    "        - layer_idx (int): Index of the layer (0-based).\n",
    "        - W (numpy array): New weight matrix for the layer.\n",
    "        - b (numpy array): New bias vector for the layer.\n",
    "\n",
    "        Returns:\n",
    "        - None\n",
    "        \"\"\"\n",
    "        self.layers[layer_idx].weights = W\n",
    "        self.layers[layer_idx].biases = b\n",
    "\n",
    "\n",
    "    def mse(self, y_true, y_pred):\n",
    "        \"\"\"\n",
    "        Computes the Mean Squared Error (MSE) loss.\n",
    "\n",
    "        Parameters:\n",
    "        - y_true (numpy array): True target values.\n",
    "        - y_pred (numpy array): Predicted values from the network.\n",
    "\n",
    "        Returns:\n",
    "        - float: Computed MSE loss.\n",
    "        \"\"\"\n",
    "        return np.mean((y_true - y_pred) ** 2)\n",
    "    \n",
    "    \n",
    "    def f1_score(self, y_true, y_pred):\n",
    "        \"\"\"\n",
    "        Computes the F1-score for multi-class classification using macro-averaging.\n",
    "        \n",
    "        :param y_true: List or array of true class labels\n",
    "        :param y_pred: List or array of predicted class labels\n",
    "        :return: Macro-averaged F1-score value\n",
    "        \"\"\"\n",
    "        classes = set(y_true) | set(y_pred)\n",
    "        total_f1 = 0\n",
    "        \n",
    "        for cls in classes:\n",
    "            tp = sum((yt == cls and yp == cls) for yt, yp in zip(y_true, y_pred))\n",
    "            fp = sum((yt != cls and yp == cls) for yt, yp in zip(y_true, y_pred))\n",
    "            fn = sum((yt == cls and yp != cls) for yt, yp in zip(y_true, y_pred))\n",
    "            \n",
    "            precision = tp / (tp + fp) if (tp + fp) > 0 else 0\n",
    "            recall = tp / (tp + fn) if (tp + fn) > 0 else 0\n",
    "            \n",
    "            f1 = (2 * precision * recall) / (precision + recall) if (precision + recall) > 0 else 0\n",
    "            total_f1 += f1\n",
    "        \n",
    "        return total_f1 / len(classes) if classes else 0\n",
    "\n",
    "    def cross_entropy(self, y_true, y_pred):\n",
    "        \"\"\"\n",
    "        Computes the cross-entropy loss for multi-class classification.\n",
    "\n",
    "        Parameters:\n",
    "        - y_true (numpy array): True target values (one-hot encoded).\n",
    "        - y_pred (numpy array): Predicted probabilities from the network.\n",
    "\n",
    "        Returns:\n",
    "        - float: Computed cross-entropy loss.\n",
    "        \"\"\"\n",
    "        epsilon = 1e-15  \n",
    "        y_pred = np.clip(y_pred, epsilon, 1 - epsilon)  \n",
    "        return -np.mean(np.sum(y_true * np.log(y_pred), axis=1))"
   ]
  },
  {
   "cell_type": "code",
   "execution_count": 6,
   "metadata": {},
   "outputs": [],
   "source": [
    "def create_plots(X_train, y_train, X_test, y_test, y_train_pred, y_test_pred, classification=False):\n",
    "    if not classification:\n",
    "        plt.figure(figsize=(12, 5))\n",
    "\n",
    "        plt.subplot(1, 2, 1)\n",
    "        plt.plot(X_train, y_train, 'o', label='Actual')\n",
    "        plt.plot(X_train, y_train_pred, 'o', label='Prediction')\n",
    "        plt.title('Training Set')\n",
    "        plt.xlabel('X_train')\n",
    "        plt.ylabel('y_train')\n",
    "        plt.legend()\n",
    "        plt.grid(True)\n",
    "\n",
    "        plt.subplot(1, 2, 2)\n",
    "        plt.plot(X_test, y_test, 'o', label='Actual')\n",
    "        plt.plot(X_test, y_test_pred, 'o', label='Prediction')\n",
    "        plt.title('Test Set')\n",
    "        plt.xlabel('X_test')\n",
    "        plt.ylabel('y_test')\n",
    "        plt.legend()\n",
    "        plt.grid(True)\n",
    "\n",
    "        plt.tight_layout()\n",
    "        plt.show()\n",
    "    else:\n",
    "        plt.figure(figsize=(8, 3))\n",
    "\n",
    "        plt.subplot(1, 2, 1)\n",
    "        plt.scatter(X_train.iloc[:, 0], X_train.iloc[:, 1], c=y_train)\n",
    "        plt.title(\"True Labels - TRAIN\")\n",
    "\n",
    "        plt.subplot(1, 2, 2)\n",
    "        plt.scatter(X_train.iloc[:, 0], X_train.iloc[:, 1], c=y_train_pred)\n",
    "        plt.title(\"Predicted Labels - TRAIN\")\n",
    "\n",
    "        plt.tight_layout()\n",
    "        plt.show()\n",
    "\n",
    "        plt.figure(figsize=(8, 3))\n",
    "\n",
    "        plt.subplot(1, 2, 1)\n",
    "        plt.scatter(X_test.iloc[:, 0], X_test.iloc[:, 1], c=y_test)\n",
    "        plt.title(\"True Labels - TEST\")\n",
    "\n",
    "        plt.subplot(1, 2, 2)\n",
    "        plt.scatter(X_test.iloc[:, 0], X_test.iloc[:, 1], c=y_test_pred)\n",
    "        plt.title(\"Predicted Labels - TEST\")\n",
    "\n",
    "        plt.tight_layout()\n",
    "        plt.show()"
   ]
  },
  {
   "cell_type": "markdown",
   "metadata": {},
   "source": [
    "# **Tests**"
   ]
  },
  {
   "cell_type": "code",
   "execution_count": null,
   "metadata": {},
   "outputs": [
    {
     "data": {
      "application/vnd.microsoft.datawrangler.viewer.v0+json": {
       "columns": [
        {
         "name": "index",
         "rawType": "int64",
         "type": "integer"
        },
        {
         "name": "label",
         "rawType": "int64",
         "type": "integer"
        }
       ],
       "conversionMethod": "pd.DataFrame",
       "ref": "cd8b8465-94fb-4e27-9920-8b7acc6187c2",
       "rows": [
        [
         "0",
         "8"
        ],
        [
         "1",
         "1"
        ],
        [
         "2",
         "6"
        ],
        [
         "3",
         "7"
        ],
        [
         "4",
         "3"
        ],
        [
         "5",
         "3"
        ],
        [
         "6",
         "7"
        ],
        [
         "7",
         "5"
        ],
        [
         "8",
         "3"
        ],
        [
         "9",
         "6"
        ],
        [
         "10",
         "8"
        ],
        [
         "11",
         "5"
        ],
        [
         "12",
         "7"
        ],
        [
         "13",
         "3"
        ],
        [
         "14",
         "4"
        ],
        [
         "15",
         "5"
        ],
        [
         "16",
         "2"
        ],
        [
         "17",
         "1"
        ],
        [
         "18",
         "8"
        ],
        [
         "19",
         "9"
        ],
        [
         "20",
         "1"
        ],
        [
         "21",
         "6"
        ],
        [
         "22",
         "6"
        ],
        [
         "23",
         "8"
        ],
        [
         "24",
         "0"
        ],
        [
         "25",
         "8"
        ],
        [
         "26",
         "7"
        ],
        [
         "27",
         "3"
        ],
        [
         "28",
         "3"
        ],
        [
         "29",
         "3"
        ],
        [
         "30",
         "9"
        ],
        [
         "31",
         "9"
        ],
        [
         "32",
         "2"
        ],
        [
         "33",
         "7"
        ],
        [
         "34",
         "8"
        ],
        [
         "35",
         "5"
        ],
        [
         "36",
         "2"
        ],
        [
         "37",
         "3"
        ],
        [
         "38",
         "7"
        ],
        [
         "39",
         "2"
        ],
        [
         "40",
         "3"
        ],
        [
         "41",
         "1"
        ],
        [
         "42",
         "3"
        ],
        [
         "43",
         "1"
        ],
        [
         "44",
         "2"
        ],
        [
         "45",
         "1"
        ],
        [
         "46",
         "6"
        ],
        [
         "47",
         "8"
        ],
        [
         "48",
         "9"
        ],
        [
         "49",
         "2"
        ]
       ],
       "shape": {
        "columns": 1,
        "rows": 2786
       }
      },
      "text/html": [
       "<div>\n",
       "<style scoped>\n",
       "    .dataframe tbody tr th:only-of-type {\n",
       "        vertical-align: middle;\n",
       "    }\n",
       "\n",
       "    .dataframe tbody tr th {\n",
       "        vertical-align: top;\n",
       "    }\n",
       "\n",
       "    .dataframe thead th {\n",
       "        text-align: right;\n",
       "    }\n",
       "</style>\n",
       "<table border=\"1\" class=\"dataframe\">\n",
       "  <thead>\n",
       "    <tr style=\"text-align: right;\">\n",
       "      <th></th>\n",
       "      <th>label</th>\n",
       "    </tr>\n",
       "  </thead>\n",
       "  <tbody>\n",
       "    <tr>\n",
       "      <th>0</th>\n",
       "      <td>8</td>\n",
       "    </tr>\n",
       "    <tr>\n",
       "      <th>1</th>\n",
       "      <td>1</td>\n",
       "    </tr>\n",
       "    <tr>\n",
       "      <th>2</th>\n",
       "      <td>6</td>\n",
       "    </tr>\n",
       "    <tr>\n",
       "      <th>3</th>\n",
       "      <td>7</td>\n",
       "    </tr>\n",
       "    <tr>\n",
       "      <th>4</th>\n",
       "      <td>3</td>\n",
       "    </tr>\n",
       "    <tr>\n",
       "      <th>...</th>\n",
       "      <td>...</td>\n",
       "    </tr>\n",
       "    <tr>\n",
       "      <th>2781</th>\n",
       "      <td>2</td>\n",
       "    </tr>\n",
       "    <tr>\n",
       "      <th>2782</th>\n",
       "      <td>7</td>\n",
       "    </tr>\n",
       "    <tr>\n",
       "      <th>2783</th>\n",
       "      <td>4</td>\n",
       "    </tr>\n",
       "    <tr>\n",
       "      <th>2784</th>\n",
       "      <td>7</td>\n",
       "    </tr>\n",
       "    <tr>\n",
       "      <th>2785</th>\n",
       "      <td>9</td>\n",
       "    </tr>\n",
       "  </tbody>\n",
       "</table>\n",
       "<p>2786 rows × 1 columns</p>\n",
       "</div>"
      ],
      "text/plain": [
       "      label\n",
       "0         8\n",
       "1         1\n",
       "2         6\n",
       "3         7\n",
       "4         3\n",
       "...     ...\n",
       "2781      2\n",
       "2782      7\n",
       "2783      4\n",
       "2784      7\n",
       "2785      9\n",
       "\n",
       "[2786 rows x 1 columns]"
      ]
     },
     "execution_count": 11,
     "metadata": {},
     "output_type": "execute_result"
    }
   ],
   "source": [
    "X_train = pd.read_csv('data/feature_engineering/processed_x_train.csv')\n",
    "X_test = pd.read_csv('data/feature_engineering/processed_x_valid.csv')\n",
    "\n",
    "y_train_orig = pd.read_csv('data/y_train.csv')\n",
    "y_train = y_train_orig.copy().drop(columns=['clicked'])\n",
    "y_train\n",
    "\n",
    "y_test_orig = pd.read_csv('data/y_valid.csv')\n",
    "y_test = y_test_orig.copy().drop(columns=['clicked'])\n",
    "y_test\n",
    "\n",
    "NN = MLP(layers=[\n",
    "    {'input_dim': , 'output_dim': 10, 'activation': 'relu'},\n",
    "    {'input_dim': 10, 'output_dim': 5, 'activation': 'relu'},\n",
    "    {'input_dim': 5, 'output_dim': 2, 'activation': 'softmax'}\n",
    "], \n",
    "         classification=True)"
   ]
  }
 ],
 "metadata": {
  "kernelspec": {
   "display_name": "combainslot",
   "language": "python",
   "name": "python3"
  },
  "language_info": {
   "codemirror_mode": {
    "name": "ipython",
    "version": 3
   },
   "file_extension": ".py",
   "mimetype": "text/x-python",
   "name": "python",
   "nbconvert_exporter": "python",
   "pygments_lexer": "ipython3",
   "version": "3.11.11"
  }
 },
 "nbformat": 4,
 "nbformat_minor": 2
}
