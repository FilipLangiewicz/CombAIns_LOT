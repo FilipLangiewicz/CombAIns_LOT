{
 "cells": [
  {
   "cell_type": "code",
   "execution_count": null,
   "id": "5fded195",
   "metadata": {},
   "outputs": [],
   "source": [
    "import pandas"
   ]
  },
  {
   "cell_type": "code",
   "execution_count": null,
   "id": "0919b2b6",
   "metadata": {},
   "outputs": [],
   "source": [
    "data = pd.read_csv('data/hackaton_students_train.csv')"
   ]
  }
 ],
 "metadata": {
  "kernelspec": {
   "display_name": "combainslot",
   "language": "python",
   "name": "python3"
  },
  "language_info": {
   "name": "python",
   "version": "3.11.11"
  }
 },
 "nbformat": 4,
 "nbformat_minor": 5
}
